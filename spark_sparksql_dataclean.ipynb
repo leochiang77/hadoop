{
 "cells": [
  {
   "cell_type": "code",
   "execution_count": 1,
   "metadata": {
    "collapsed": true
   },
   "outputs": [],
   "source": [
    "import os\n",
    "import sys\n",
    "from pyspark import SparkConf, SparkContext\n",
    "# from pyspark.sql import SQLContext, Row\n",
    "from pyspark.sql import *\n",
    "from pyspark.sql.types import *\n",
    "\n",
    "\n",
    "if 'SPARK_HOME' not in os.environ:\n",
    "    os.environ['SPARK_HOME'] = '/opt/cloudera/parcels/CDH-5.7.1-1.cdh5.7.1.p0.11/lib/spark'\n",
    "os.environ[\"PYSPARK_PYTHON\"]=\"/home/leo/anaconda2/bin/python\"\n",
    "SPARK_HOME = os.environ['SPARK_HOME']\n",
    "sys.path.insert(0, os.path.join(SPARK_HOME, \"python\"))"
   ]
  },
  {
   "cell_type": "code",
   "execution_count": 2,
   "metadata": {
    "collapsed": true
   },
   "outputs": [],
   "source": [
    "from pyspark import SparkContext,StorageLevel\n",
    "sc = SparkContext( 'yarn-client', 'Try')\n",
    "sqlContext = SQLContext(sc)"
   ]
  },
  {
   "cell_type": "markdown",
   "metadata": {},
   "source": [
    "## broadcast variable"
   ]
  },
  {
   "cell_type": "code",
   "execution_count": 3,
   "metadata": {
    "collapsed": false,
    "scrolled": true
   },
   "outputs": [],
   "source": [
    "#broadcast var to others\n",
    "text_node=[]\n",
    "itemlist_node={}\n",
    "\n",
    "# text_node=[u'\\u3010']\n",
    "\n",
    "# for ele in text_node:\n",
    "#     ele.decode('utf-8')\n",
    "#     print ele\n",
    "text_node=['👍','●', '○','^^','◆','▲','✿','★','♥','■','◆','@@','☆','+','。','✔','＊','㊣','▼','◣','◢',\n",
    "      '==============================','□','►','☉','^_^','‘×’','※','△','◇','♛','~^ ^~','~~~~~'\n",
    "      ,'◎','*','Σ( ° △ °|||)︴'\n",
    "     ,'〒','√','========== ==========','【','】','↖','↘','↗','↗','∥','^o^','ㄌ','ㄍ','ㄛ','ㄉ','╭','❤',\n",
    "      '✈','￥','❒','✜''👍','●','➽','★','◆','■','▋','▌','❤','▲','♥','☻','㊣','❒','❺','❷','❹','❸','❶','〒','≧',\n",
    "      '♞','➤','✦','✠','❉','✜','《','》','\"',' ','🐻','☀','🎉','➕','🚫','📲','🌟','🌻','☆','★','◎']\n",
    "text_node2=[]\n",
    "for ele in text_node:\n",
    "    ele=ele.decode('utf-8')\n",
    "    text_node2.append(ele)\n",
    "#     print ele,repr(ele)\n",
    "# itemlist_node=[{'耳機':'earphone'},{'男香水':'m_perfume'},{'筆記型電腦':'notebook'},{'領帶':'necktie'},{'玩偶':'doll'},\\\n",
    "#          {'美容':'beauty'},{'自行車':'bike'},{'相機':'camera'},{'咖啡':'coffee'},{'茶':'tea'},{'錢包':'wallets'},\\\n",
    "#          {'果汁':'juice'},{'印章':'seal'},{'杯子':'cup'},{'茶具':'tea_set'},{'茶壺':'teapot'},{'護髮':'hair_care'},\\\n",
    "#          {'按摩':'massage'},{'麵包機':'breadmaker'},{'鋼筆':'fountain_pen'},{'豆漿':'soybean_milk'},\\\n",
    "#          {'抱枕':'pillow'},{'咖啡機':'coffee_machine'},{'智能手錶':'smartwatch'},{'果乾':'dried_fruit'},\\\n",
    "#          {'精油':'essential_oils'},{'剃毛':'shaving'},{'背包':'backpack'},{'咖啡杯':'mug'},{'烤爐':'oven'},\\\n",
    "#          {'女香水':'w_perfume'}]\n",
    "\n",
    "\n",
    "text = sc.broadcast(text_node2)\n",
    "itemlist= sc.broadcast(itemlist_node)"
   ]
  },
  {
   "cell_type": "code",
   "execution_count": 8,
   "metadata": {
    "collapsed": false
   },
   "outputs": [
    {
     "name": "stdout",
     "output_type": "stream",
     "text": [
      "2016-07-26 03:09:05\n",
      "21533389987301 JKATOP全新正品打結OUT拉鍊金屬耳機頭重低音麥克風線控耳塞式魔聲音感iphone6s/6plus http://goods.ruten.com.tw/item/show?21533389987301 801 198 99 comeonpeace 上次登入：2016-06-22 9435 2016-06-1919:29:14 27 165 http://f.rimg.com.tw/s1/f/19/e5/21533389987301_206_m.gif 露天拍賣-台灣NO.1拍賣網站\n",
      "21551396166623 御美妍SarahJessicaParkerLovely慾望城市女性淡香100ML@另有迪奧嬌蘭 http://goods.ruten.com.tw/item/show?21551396166623 42 0 850 bestmask 上次登入：2016-06-21 73008  0 0 http://a.rimg.com.tw/s1/7/cf/df/21551396166623_614_m.jpg 露天拍賣-台灣NO.1拍賣網站品牌名稱SarahJessicaParkerLovely商品名稱慾望城市女性淡香容量與規格單瓶100ML其他特殊說明香調：柔美花香調 前味：佛手柑、花梨木、柑橘、薰衣草、蘋果馬丁尼中味：白水仙、廣藿香、蘭花 後味：木質香、香柏木、龍涎香、麝香下標前請先詢問有無現貨唷備註說明請置於陰涼乾燥處，避免陽光直接照射，使用時若產生不適症狀，請停止使用，並諮詢醫生意見消耗性產品如經拆封使用，恕無法退貨\n",
      "2016-07-26 03:09:12\n"
     ]
    }
   ],
   "source": [
    "import re\n",
    "import time\n",
    "print time.strftime(\"%Y-%m-%d %H:%M:%S\", time.localtime()) \n",
    "\n",
    "def cleanWord(line):\n",
    "     \n",
    "#     line.encode('utf-8')\n",
    "    content=''\n",
    "    pattern = re.sub(r'\\{.*\\}','',line)\n",
    "    content=content+pattern\n",
    "#     print content\n",
    "\n",
    "    for element in text.value:\n",
    "        if element in content:\n",
    "            content=content.replace(element, \"\")\n",
    "\n",
    "    content=content.replace('<![CDATA[/varcontext=', \"\")\n",
    "    pattern_final = re.sub(r'NEW','0',content)\n",
    "    pattern_final = re.sub(r'\\'','0',pattern_final)\n",
    "    return pattern_final\n",
    "\n",
    "\n",
    "def createid(line):\n",
    "    mylist_id=line.split('show?')[1]\n",
    "    return mylist_id\n",
    "\n",
    "def fixPrice(line):\n",
    "    if int(line) >1000000:\n",
    "        return 0\n",
    "    else:\n",
    "        return line\n",
    "\n",
    "    \n",
    "lines = sc.textFile(\"/user/admin/admin3/\")\n",
    "people = lines.map(lambda x: x.split(\"_|\"))\n",
    "\n",
    "# The schema is encoded in a string.\n",
    "schemaString = \"Title PRO_webads left_num sold_num Price SELLER_NAME SELLER_lastlogin SELLER_assess PRO_lastpricetime q_times price_times pic_web inner_content extra\"\n",
    "\n",
    "fields = [StructField(field_name,StringType(),True) for field_name in schemaString.split(\" \")]\n",
    "schema = StructType(fields)\n",
    "\n",
    "# Apply the schema to the RDD.\n",
    "schemaPeople = sqlContext.createDataFrame(people, schema)\n",
    "\n",
    "# Register the DataFrame as a table.\n",
    "schemaPeople.registerTempTable(\"people\")\n",
    "\n",
    "# SQL can be run over DataFrames that have been registered as a table.\n",
    "results = sqlContext.sql(\"SELECT Title, PRO_webads, left_num, sold_num, Price, SELLER_NAME, SELLER_lastlogin,SELLER_assess, PRO_lastpricetime, q_times, price_times, pic_web, inner_content FROM people\")\n",
    "\n",
    "# The results of SQL queries are RDDs and support all the normal RDD operations.\n",
    "names = results.map(lambda p: createid(p.PRO_webads)+ \" \"+ cleanWord(p.Title)+ \" \"+ p.PRO_webads+ \" \"+p.left_num+ \" \"+ p.sold_num + \" \"+fixPrice(p.Price)+ \" \"+ p.SELLER_NAME + \" \"+p.SELLER_lastlogin+ \" \"+ p.SELLER_assess+ \" \"+ p.PRO_lastpricetime + \" \"+p.q_times + \" \"+p.price_times + \" \"+p.pic_web + \" \"+cleanWord(p.inner_content))\n",
    "\n",
    "catchdate=time.strftime(\"%d\") # %m %Y\n",
    "names.saveAsTextFile('/user/admin/output/{}'.format(catchdate))\n",
    "# for name in names.collect():\n",
    "#     print name\n",
    "\n",
    "# # http://goods.ruten.com.tw/item/show?21533389987301\n",
    "    \n",
    "print time.strftime(\"%Y-%m-%d %H:%M:%S\", time.localtime()) \n",
    "\n"
   ]
  },
  {
   "cell_type": "code",
   "execution_count": 8,
   "metadata": {
    "collapsed": false
   },
   "outputs": [],
   "source": []
  }
 ],
 "metadata": {
  "kernelspec": {
   "display_name": "Python 2",
   "language": "python",
   "name": "python2"
  },
  "language_info": {
   "codemirror_mode": {
    "name": "ipython",
    "version": 2
   },
   "file_extension": ".py",
   "mimetype": "text/x-python",
   "name": "python",
   "nbconvert_exporter": "python",
   "pygments_lexer": "ipython2",
   "version": "2.7.11"
  }
 },
 "nbformat": 4,
 "nbformat_minor": 0
}
