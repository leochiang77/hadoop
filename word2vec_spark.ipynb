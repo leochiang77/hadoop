{
 "cells": [
  {
   "cell_type": "code",
   "execution_count": 1,
   "metadata": {
    "collapsed": true
   },
   "outputs": [
    {
     "ename": "ImportError",
     "evalue": "No module named pyspark",
     "output_type": "error",
     "traceback": [
      "\u001b[1;31m---------------------------------------------------------------------------\u001b[0m",
      "\u001b[1;31mImportError\u001b[0m                               Traceback (most recent call last)",
      "\u001b[1;32m<ipython-input-1-7e728af230fc>\u001b[0m in \u001b[0;36m<module>\u001b[1;34m()\u001b[0m\n\u001b[1;32m----> 1\u001b[1;33m \u001b[1;32mimport\u001b[0m \u001b[0mpyspark\u001b[0m\u001b[1;33m\u001b[0m\u001b[0m\n\u001b[0m\u001b[0;32m      2\u001b[0m \u001b[1;32mfrom\u001b[0m \u001b[0mpyspark\u001b[0m \u001b[1;32mimport\u001b[0m \u001b[0mSparkConf\u001b[0m\u001b[1;33m,\u001b[0m\u001b[0mSparkContext\u001b[0m\u001b[1;33m\u001b[0m\u001b[0m\n\u001b[0;32m      3\u001b[0m \u001b[1;32mfrom\u001b[0m \u001b[0mpyspark\u001b[0m\u001b[1;33m.\u001b[0m\u001b[0mmllib\u001b[0m\u001b[1;33m.\u001b[0m\u001b[0mfeature\u001b[0m \u001b[1;32mimport\u001b[0m \u001b[0mWord2Vec\u001b[0m\u001b[1;33m\u001b[0m\u001b[0m\n\u001b[0;32m      4\u001b[0m \u001b[0msc\u001b[0m \u001b[1;33m=\u001b[0m \u001b[0mpyspark\u001b[0m\u001b[1;33m.\u001b[0m\u001b[0mSparkContext\u001b[0m\u001b[1;33m(\u001b[0m\u001b[1;34m'local'\u001b[0m\u001b[1;33m,\u001b[0m\u001b[1;34m'word2vec'\u001b[0m\u001b[1;33m)\u001b[0m\u001b[1;33m\u001b[0m\u001b[0m\n\u001b[0;32m      5\u001b[0m \u001b[1;31m# sc = SparkContext(appName='Word2Vec')\u001b[0m\u001b[1;33m\u001b[0m\u001b[1;33m\u001b[0m\u001b[0m\n",
      "\u001b[1;31mImportError\u001b[0m: No module named pyspark"
     ]
    }
   ],
   "source": [
    "import pyspark\n",
    "from pyspark import SparkConf,SparkContext\n",
    "from pyspark.mllib.feature import Word2Vec\n",
    "sc = pyspark.SparkContext('local','word2vec')\n",
    "# sc = SparkContext(appName='Word2Vec')\n",
    "# conf=(SparkConf().set(\"spark.driver.maxResultSize\",\"2g\"))\n",
    "# sc = pyspark.SparkContext( master='local', conf=conf,appName='Appname')"
   ]
  },
  {
   "cell_type": "code",
   "execution_count": 11,
   "metadata": {
    "collapsed": false,
    "scrolled": true
   },
   "outputs": [
    {
     "name": "stdout",
     "output_type": "stream",
     "text": [
      "<class 'pyspark.rdd.PipelinedRDD'> PythonRDD[103] at RDD at PythonRDD.scala:43\n",
      "<class 'pyspark.mllib.feature.Word2Vec'>\n",
      "(u'\\u6d0b\\u8525\\u5207\\u7d72\\uff0c', 0.63517131739278887)\n",
      "(u'Okara', 0.63108093221698491)\n"
     ]
    }
   ],
   "source": [
    "inp = sc.textFile(\"/user/admin/admin/01ID2.txt\").map(lambda row: row.split(\" \"))\n",
    "\n",
    "print type(inp),inp\n",
    "word2vec = Word2Vec()\n",
    "print type(word2vec)\n",
    "model = word2vec.fit(inp)\n",
    "\n",
    "synonyms = model.findSynonyms('banana', 2)\n",
    "\n",
    "\n",
    "for word, cosine_distance in synonyms:\n",
    "    print(word, cosine_distance)"
   ]
  },
  {
   "cell_type": "code",
   "execution_count": 1,
   "metadata": {
    "collapsed": true
   },
   "outputs": [],
   "source": []
  },
  {
   "cell_type": "code",
   "execution_count": 19,
   "metadata": {
    "collapsed": false,
    "scrolled": true
   },
   "outputs": [
    {
     "name": "stdout",
     "output_type": "stream",
     "text": [
      "<class 'pyspark.mllib.feature.Word2Vec'>\n",
      "<class 'pyspark.mllib.feature.Word2VecModel'>\n",
      "(u'\\u8d77', 0.63698720799371389)\n",
      "(u'\\u5c0f\\u706b', 0.63530325913542418)\n",
      "(u'\\u958b', 0.63449878287335637)\n"
     ]
    }
   ],
   "source": [
    "from operator import add\n",
    "from pyspark import SparkContext\n",
    "from pyspark.mllib.feature import Word2Vec\n",
    "import jieba\n",
    "# import Wordfilter\n",
    "def splitWord(line):\n",
    "    seg_list = list(jieba.cut(line, cut_all=True))\n",
    "    return seg_list\n",
    "\n",
    "\n",
    "inp = sc.textFile(\"/user/admin/admin/01ID2.txt\").map(lambda x: splitWord(x))\n",
    "# temp = inp.collect()\n",
    "# print temp[0]\n",
    "# print type(inp),inp\n",
    "word2vec = Word2Vec()\n",
    "print type(word2vec)\n",
    "model = word2vec.fit(inp)\n",
    "print type(model)\n",
    "\n",
    "synonyms = model.findSynonyms(u'放入', 3)\n",
    "\n",
    "\n",
    "for word, cosine_distance in synonyms:\n",
    "    print(word, cosine_distance)\n",
    "    "
   ]
  }
 ],
 "metadata": {
  "kernelspec": {
   "display_name": "Python 2",
   "language": "python",
   "name": "python2"
  },
  "language_info": {
   "codemirror_mode": {
    "name": "ipython",
    "version": 2
   },
   "file_extension": ".py",
   "mimetype": "text/x-python",
   "name": "python",
   "nbconvert_exporter": "python",
   "pygments_lexer": "ipython2",
   "version": "2.7.11"
  }
 },
 "nbformat": 4,
 "nbformat_minor": 0
}
