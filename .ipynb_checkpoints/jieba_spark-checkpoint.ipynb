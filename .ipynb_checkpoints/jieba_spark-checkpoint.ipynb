{
 "cells": [
  {
   "cell_type": "code",
   "execution_count": 1,
   "metadata": {
    "collapsed": true
   },
   "outputs": [],
   "source": [
    "import os\n",
    "import sys\n",
    "\n",
    "if 'SPARK_HOME' not in os.environ:\n",
    "    os.environ['SPARK_HOME'] = '/opt/cloudera/parcels/CDH-5.7.1-1.cdh5.7.1.p0.11/lib/spark'\n",
    "os.environ[\"PYSPARK_PYTHON\"]=\"/home/leo/anaconda2/bin/python\"\n",
    "SPARK_HOME = os.environ['SPARK_HOME']\n",
    "sys.path.insert(0, os.path.join(SPARK_HOME, \"python\"))\n",
    "\n",
    "os.environ['PYSPARK_SUBMIT_ARGS'] = '--files /home/leo//anaconda2/lib/python2.7/site-packages/jieba/userdict.txt pyspark-shell'"
   ]
  },
  {
   "cell_type": "code",
   "execution_count": 2,
   "metadata": {
    "collapsed": false
   },
   "outputs": [],
   "source": [
    "from pyspark import SparkContext,StorageLevel\n",
    "import os\n",
    "import sys\n",
    "import jieba\n",
    "sc = SparkContext( 'yarn-client', 'AppName')"
   ]
  },
  {
   "cell_type": "markdown",
   "metadata": {},
   "source": [
    "## import dictionary"
   ]
  },
  {
   "cell_type": "code",
   "execution_count": 3,
   "metadata": {
    "collapsed": false
   },
   "outputs": [
    {
     "name": "stdout",
     "output_type": "stream",
     "text": [
      "[u'18899\\u5143 3 n', u'\\u5c0f\\u5fc3\\u71d9 3000 n', u'\\u9f8d\\u864e\\u6591 300 n']\n"
     ]
    }
   ],
   "source": [
    "dicts = sc.textFile(\"/user/admin/userdict.txt\").collect()\n",
    "print dicts"
   ]
  },
  {
   "cell_type": "code",
   "execution_count": 4,
   "metadata": {
    "collapsed": false
   },
   "outputs": [
    {
     "name": "stdout",
     "output_type": "stream",
     "text": [
      "<type 'list'>\n"
     ]
    }
   ],
   "source": [
    "print type(dicts)"
   ]
  },
  {
   "cell_type": "code",
   "execution_count": 7,
   "metadata": {
    "collapsed": false
   },
   "outputs": [
    {
     "name": "stdout",
     "output_type": "stream",
     "text": [
      " 3108\n",
      "龍 3\n",
      "龍虎斑 1\n"
     ]
    }
   ],
   "source": [
    "from operator import add\n",
    "\n",
    "def splitWord(line): \n",
    "    jieba.load_userdict(accum.value)\n",
    "    seg_list = jieba.cut(line, cut_all=True)\n",
    "    return seg_list\n",
    "\n",
    "\n",
    "lines = sc.textFile(\"/user/admin/admin/\")\n",
    "counts = lines.flatMap(lambda x: splitWord(x)).map(lambda x: (x, 1)).reduceByKey(add)\n",
    "counts.persist(StorageLevel.MEMORY_ONLY)\n",
    "output = counts.collect()\n",
    "wcount = []\n",
    "for (word, count) in output:\n",
    "#     if len(word) > 2 and count > 10:\n",
    "#             if Wordfilter.wfilter(word):\n",
    "    tup= (word,count)\n",
    "    wcount.append(tup)\n",
    "# print wcount,type(wcount)\n",
    "for ele in wcount:\n",
    "    if ele[0] in u'龍虎斑':\n",
    "        print ele[0],ele[1]\n",
    "        \n",
    "        \n",
    "# sc.stop()"
   ]
  },
  {
   "cell_type": "code",
   "execution_count": 44,
   "metadata": {
    "collapsed": false
   },
   "outputs": [
    {
     "name": "stdout",
     "output_type": "stream",
     "text": [
      "4\n"
     ]
    }
   ],
   "source": [
    "accum = sc.accumulator(0)\n",
    "sc.parallelize([1, 1, 1, 1]).foreach(lambda x: accum.add(x))\n",
    "# print accum\n",
    "if accum.value < 10:\n",
    "    print accum\n",
    "\n",
    "sc.stop()\n",
    "    \n"
   ]
  }
 ],
 "metadata": {
  "kernelspec": {
   "display_name": "Python 2",
   "language": "python",
   "name": "python2"
  },
  "language_info": {
   "codemirror_mode": {
    "name": "ipython",
    "version": 2
   },
   "file_extension": ".py",
   "mimetype": "text/x-python",
   "name": "python",
   "nbconvert_exporter": "python",
   "pygments_lexer": "ipython2",
   "version": "2.7.11"
  }
 },
 "nbformat": 4,
 "nbformat_minor": 0
}
