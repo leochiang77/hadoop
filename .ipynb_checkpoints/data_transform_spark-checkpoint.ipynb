{
 "cells": [
  {
   "cell_type": "code",
   "execution_count": 1,
   "metadata": {
    "collapsed": true
   },
   "outputs": [],
   "source": [
    "import os\n",
    "import sys\n",
    "\n",
    "if 'SPARK_HOME' not in os.environ:\n",
    "    os.environ['SPARK_HOME'] = '/opt/cloudera/parcels/CDH-5.7.1-1.cdh5.7.1.p0.11/lib/spark'\n",
    "os.environ[\"PYSPARK_PYTHON\"]=\"/home/leo/anaconda2/bin/python\"\n",
    "SPARK_HOME = os.environ['SPARK_HOME']\n",
    "sys.path.insert(0, os.path.join(SPARK_HOME, \"python\"))\n",
    "\n",
    "os.environ['PYSPARK_SUBMIT_ARGS'] = '--num-executors 3 --driver-memory 3g --executor-memory 3g pyspark-shell'  #"
   ]
  },
  {
   "cell_type": "code",
   "execution_count": 2,
   "metadata": {
    "collapsed": false
   },
   "outputs": [],
   "source": [
    "from pyspark import SparkContext,StorageLevel,SparkConf\n",
    "import os\n",
    "import sys\n",
    "import jieba\n",
    "\n",
    "conf = SparkConf().set(\"spark.driver.maxResultSize\",\"7g\").setAppName(\"doc2vec2bags\").set(\"spark.kryoserializer.buffer.max\",\"1024m\").set(\"spark.akka.frameSize\",\"256\").setMaster('yarn-client')\n",
    "sc = SparkContext( conf=conf)  #'yarn-client','doc2vec2bags'"
   ]
  },
  {
   "cell_type": "code",
   "execution_count": 3,
   "metadata": {
    "collapsed": false
   },
   "outputs": [],
   "source": [
    "dicts = sc.textFile(\"/user/admin/dict.txt.big\").collect()\n",
    "stoplist = sc.textFile(\"/user/admin/stopkey.txt\").collect()\n",
    "# print dicts"
   ]
  },
  {
   "cell_type": "code",
   "execution_count": 9,
   "metadata": {
    "collapsed": false
   },
   "outputs": [
    {
     "name": "stdout",
     "output_type": "stream",
     "text": [
      "2016-07-30 22:11:44\n",
      "2016-07-30 22:11:45\n",
      "2016-07-30 22:11:55\n"
     ]
    }
   ],
   "source": [
    "from operator import add\n",
    "import pandas as pd\n",
    "import gensim\n",
    "import collections\n",
    "import jieba, operator, os, json,re ,sys\n",
    "import time\n",
    "\n",
    "print time.strftime(\"%Y-%m-%d %H:%M:%S\", time.localtime())\n",
    "\n",
    "# 這裡設定常數\n",
    "# jieba.set_dictionary('C:\\Anaconda2\\Lib\\site-packages\\jieba\\dict.txt.big.txt')\n",
    "\n",
    "# modelName = u'香水1model'\n",
    "path = '/user/admin/bags/'\n",
    "       \n",
    "        \n",
    "#定義一個函數，進入一行一行的文字，output 切完詞後濾停止詞，在裝入list\n",
    "def wordCut(text):\n",
    "    \n",
    "    jieba.load_userdict(accum.value)\n",
    "    \n",
    "    cutlist = u\"<>/:：;；,、＂’，.。！？｢\\\"\\'\\\\r《》“”!@#$%^&*()★❤◆■\"\n",
    "    \n",
    "    wlist = []\n",
    "    words = jieba.cut(text, cut_all=False)\n",
    "    wlist=(list(word.strip() for word in words if word not in set(stop_list.value)))\n",
    "    \n",
    "#     for word in words:\n",
    "#         if word not in stop_list:\n",
    "#             wlist.append(word)\n",
    "    \n",
    "    return wlist     \n",
    "\n",
    "\n",
    "def readline(words):\n",
    "    line=''\n",
    "    if(len(words)>0) : \n",
    "        line = words.replace('$&','_|')\n",
    "    return line\n",
    "\n",
    "\n",
    "def splitwords(words):\n",
    "    \n",
    "    \n",
    "    try:  \n",
    "        temp=''\n",
    "        wwords=''\n",
    "        wholeContent=words.split('_|')\n",
    "        corrupt=re.findall('\\)\\;',wholeContent[-2])\n",
    "        if  len(corrupt)>0 :\n",
    "\n",
    "            # 紀錄網址   \n",
    "            temp=wholeContent[0]+wholeContent[-2]\n",
    "            \n",
    "            #---------------jieba\n",
    "            jieba.load_userdict(accum.value)\n",
    "            words = jieba.cut(temp, cut_all=False)\n",
    "            for word in words:\n",
    "                if word not in stop_list.value:\n",
    "                    wwords=(wwords + '++' +word.strip())\n",
    "#             wwords=(wwords + word.strip() for word in words if word not in set(stop_list.value))\n",
    "\n",
    "#             url.append(wholeContent[1]) \n",
    "#             content = wholeContent[0]+wholeContent[-2]         \n",
    "\n",
    "            #紀錄切詞結果   \n",
    "#             afterCut.append(wordCut(content))\n",
    "#             afterCut_tmp=wordCut(temp)\n",
    "            totalmerge[wholeContent[1]]=wwords\n",
    "    except:\n",
    "        #不知道為什麼會超過範圍，香水約有5000多筆\n",
    "#         print 'IndexError , list out of range'\n",
    "        pass\n",
    "\n",
    "    return totalmerge\n",
    "\n",
    "\n",
    "accum =sc.broadcast(dicts)\n",
    "stop_list=sc.broadcast(stoplist)\n",
    "\n",
    "# url = []\n",
    "# afterCut = []\n",
    "totalmerge={}\n",
    "# 開始讀取檔案\n",
    "fileList=sc.textFile(path)\n",
    "count= fileList.map(lambda x: readline(x)).repartition(20)\n",
    "\n",
    "# wp = data.partitionBy(fileList.values(),lambda k: int(k))\n",
    "count1=count.map(lambda y: splitwords(y))\n",
    "print time.strftime(\"%Y-%m-%d %H:%M:%S\", time.localtime())\n",
    "\n",
    "count2=count1.take(10)\n",
    "# count1.saveAsTextFile('/user/admin/output/trytrty/')\n",
    "# count2=count1.collect()\n",
    "# print count                  \n",
    "                    \n",
    "print time.strftime(\"%Y-%m-%d %H:%M:%S\", time.localtime())"
   ]
  }
 ],
 "metadata": {
  "kernelspec": {
   "display_name": "Python 2",
   "language": "python",
   "name": "python2"
  },
  "language_info": {
   "codemirror_mode": {
    "name": "ipython",
    "version": 2
   },
   "file_extension": ".py",
   "mimetype": "text/x-python",
   "name": "python",
   "nbconvert_exporter": "python",
   "pygments_lexer": "ipython2",
   "version": "2.7.11"
  }
 },
 "nbformat": 4,
 "nbformat_minor": 0
}
