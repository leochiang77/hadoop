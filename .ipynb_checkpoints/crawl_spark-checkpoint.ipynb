{
 "cells": [
  {
   "cell_type": "code",
   "execution_count": 1,
   "metadata": {
    "collapsed": true
   },
   "outputs": [],
   "source": [
    "import os\n",
    "import sys\n",
    "\n",
    "if 'SPARK_HOME' not in os.environ:\n",
    "    os.environ['SPARK_HOME'] = '/opt/cloudera/parcels/CDH-5.7.1-1.cdh5.7.1.p0.11/lib/spark'\n",
    "os.environ[\"PYSPARK_PYTHON\"]=\"/home/leo/anaconda2/bin/python\"\n",
    "SPARK_HOME = os.environ['SPARK_HOME']\n",
    "sys.path.insert(0, os.path.join(SPARK_HOME, \"python\"))\n",
    "\n",
    "os.environ['PYSPARK_SUBMIT_ARGS'] = '--num-executors 3 --driver-memory 3g --executor-memory 3g pyspark-shell' "
   ]
  },
  {
   "cell_type": "code",
   "execution_count": 2,
   "metadata": {
    "collapsed": true
   },
   "outputs": [],
   "source": [
    "from pyspark import SparkContext,StorageLevel,SparkConf\n",
    "import os\n",
    "import sys\n",
    "import jieba\n",
    "\n",
    "conf = SparkConf().set(\"spark.driver.maxResultSize\",\"7g\").setAppName(\"doc2vec2bags\").set(\"spark.kryoserializer.buffer.max\",\"1024m\").set(\"spark.akka.frameSize\",\"256\").setMaster('yarn-client')\n",
    "sc = SparkContext( conf=conf)  #'yarn-client','doc2vec2bags'"
   ]
  },
  {
   "cell_type": "code",
   "execution_count": 29,
   "metadata": {
    "collapsed": false
   },
   "outputs": [
    {
     "name": "stdout",
     "output_type": "stream",
     "text": [
      "2016-08-01 21:36:17\n",
      "[{u'\\u3010\\u4e94\\u914d\\u4ef6\\u3011Chanel\\u9999\\u5948\\u5152\\u7c89\\u7d05\\u751c\\u871c\\u5973\\u58eb\\u9999\\u6c34100ML\\u9644\\u539f\\u5ee0\\u79ae\\u888b': u'900'}]\n"
     ]
    }
   ],
   "source": [
    "import time\n",
    "import requests\n",
    "from bs4 import BeautifulSoup\n",
    "path = '/user/admin/ETL/'\n",
    "\n",
    "# fileList_2=fileList.collect()\n",
    "# fileList_2=fileList_2[0].split(',')[:-1]\n",
    "# temp_web='http://goods.ruten.com.tw/item/show?21629162747142'\n",
    "\n",
    "def readline(temp_web):\n",
    "#     line_split=line[0].split(',')[:-1]\n",
    "\n",
    "    title=''\n",
    "    money=''\n",
    "    headers2={\n",
    "            'User-Agent':'Mozilla/5.0 (Windows NT 6.1; WOW64) AppleWebKit/537.36 (KHTML, like Gecko) Chrome/50.0.2661.102 Safari/537.36',\n",
    "            ''\n",
    "    }\n",
    "\n",
    "    \n",
    "#      睡覺時間\n",
    "#     sleeptime()\n",
    "\n",
    "    res1 = requests.get(temp_web,headers=headers2)\n",
    "\n",
    "    # print (res1.text.encode('latin-1').decode('utf-8'))\n",
    "    soup1 = BeautifulSoup(res1.text, \"lxml\")\n",
    "    # print (soup1)\n",
    "\n",
    "    #如果只有聯結頁面沒有內容則跳過\n",
    "    if(len(soup1.select('div.main-content'))):\n",
    "\n",
    "        ens=soup1.select('div.main-content')[0]\n",
    "        title = ens.select('h2.item-title')[0].text  #標題\n",
    "#         print title    \n",
    "\n",
    "        money=ens.select('.dollar')[0].text.replace(',','')  #爬取價錢\n",
    "        # print money\n",
    "\n",
    "#         ###若缺貨標簽名稱會由.text-medium.number改成.text-medium.alert.text-important\n",
    "#         if len(ens.select('.text-medium.alert.text-important')) > 0 : \n",
    "#             nnumber = ens.select('.text-medium.alert.text-important')[0].text   \n",
    "#             snumber = ens.select('.text-medium.number')[0].text                 \n",
    "#         else:\n",
    "#             nnumber = ens.select('.text-medium.number')[0].text #尚餘數量\n",
    "#             snumber = ens.select('.text-medium.number')[1].text #已賣數量\n",
    "\n",
    "#         ppic = ens.select('.item-thumbnail img')[0]['src']  ##圖片網址\n",
    "\n",
    "\n",
    "#         #爬取賣家資料  名稱 評價\n",
    "#         seller_name= ens.select('.item-info-owner .seller-disc a')[0].text  #賣家名字\n",
    "#         seller_logint= ens.select('.item-info-owner p')[0].text  #上次登入時間\n",
    "#         seller_score= ens.select('.item-info-owner p .text-medium')[1].text  #賣家評價\n",
    "\n",
    "        \n",
    "        \n",
    "        \n",
    "        \n",
    "    return {title:money}\n",
    "\n",
    "\n",
    "\n",
    "\n",
    "print time.strftime(\"%Y-%m-%d %H:%M:%S\", time.localtime())\n",
    "\n",
    "fileList=sc.textFile(path)\n",
    "count= fileList.map(lambda x: readline(x)).collect()\n",
    "print count\n",
    "\n",
    "\n",
    "\n",
    "\n",
    "\n"
   ]
  },
  {
   "cell_type": "code",
   "execution_count": null,
   "metadata": {
    "collapsed": true
   },
   "outputs": [],
   "source": []
  }
 ],
 "metadata": {
  "kernelspec": {
   "display_name": "Python 2",
   "language": "python",
   "name": "python2"
  },
  "language_info": {
   "codemirror_mode": {
    "name": "ipython",
    "version": 2
   },
   "file_extension": ".py",
   "mimetype": "text/x-python",
   "name": "python",
   "nbconvert_exporter": "python",
   "pygments_lexer": "ipython2",
   "version": "2.7.11"
  }
 },
 "nbformat": 4,
 "nbformat_minor": 0
}
